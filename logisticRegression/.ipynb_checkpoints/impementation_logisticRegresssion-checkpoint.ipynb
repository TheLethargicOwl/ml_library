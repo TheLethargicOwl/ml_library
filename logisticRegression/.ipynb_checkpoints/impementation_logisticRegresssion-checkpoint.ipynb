{
 "cells": [
  {
   "cell_type": "code",
   "execution_count": null,
   "metadata": {},
   "outputs": [],
   "source": [
    "\"\"\"\n",
    "\n",
    "This is a LOGISTIC REGRESSION module.\n",
    "\n",
    "To use this module:\n",
    "Command-\n",
    "   >> import logisticRegression as logr\n",
    "\n",
    "1. Create an object\n",
    "   >> stat = logr.optimize( data matrix of ( m examples X n features ) , output matrix of (m examples X 1))\n",
    "   Output labels can be any number or strings. \n",
    "\n",
    "2. Plot graph for selecting a value of alpha, iterations, regularisation parameter, batch size (in case of MINI-BATCH GradDescent))\n",
    "   >> stat.plotJvsno( alpha , no of iterations , regularisation(default=0 ) , batch size (default = BATCH GradDescent))\n",
    "   \n",
    "3. This is a __y = mx + c__ model , so for theta & c\n",
    "   >> [theta,c] = stat.gettheta( alpha , no of iterations , regularisation(default=0 ) )\n",
    "   \n",
    "4. For getting predicted values\n",
    "   >> y_predict = stat.predict(X_test( m examples X n features ) )\n",
    "   \n",
    "5. For checking accuracy\n",
    "   >> stat.accuracy(X_test,y_test)\n",
    "   \n",
    "\"\"\""
   ]
  },
  {
   "cell_type": "code",
   "execution_count": null,
   "metadata": {},
   "outputs": [],
   "source": [
    "    #  EXAMPLE  --"
   ]
  },
  {
   "cell_type": "code",
   "execution_count": null,
   "metadata": {},
   "outputs": [],
   "source": []
  },
  {
   "cell_type": "code",
   "execution_count": 2,
   "metadata": {},
   "outputs": [],
   "source": [
    "import numpy as np\n",
    "import logisticRegression as logr\n",
    "import pandas as pd"
   ]
  },
  {
   "cell_type": "code",
   "execution_count": 3,
   "metadata": {},
   "outputs": [],
   "source": [
    "# loading data\n",
    "\n",
    "\n",
    "file_data = pd.read_csv('LogisticRegressionData1.txt',header=None)\n",
    "X_data = np.array(file_data.values)"
   ]
  },
  {
   "cell_type": "code",
   "execution_count": 4,
   "metadata": {},
   "outputs": [],
   "source": [
    "X = X_data[:,0:np.shape(X_data)[1]-1]\n",
    "y = X_data[:,np.shape(X_data)[1]-1]"
   ]
  },
  {
   "cell_type": "code",
   "execution_count": 5,
   "metadata": {},
   "outputs": [],
   "source": [
    "[m,n] = np.shape(X)"
   ]
  },
  {
   "cell_type": "code",
   "execution_count": 6,
   "metadata": {},
   "outputs": [],
   "source": [
    "#splitting data into test and train set\n",
    "\n",
    "X_train = X[0:int(0.8*m),:]\n",
    "y_train = y[0:int(0.8*m)]\n",
    "X_test = X[int(0.8*m):,:]\n",
    "y_test = y[int(0.8*m):]\n",
    "\n",
    "\n",
    "y_test = np.reshape(y_test,(np.shape(y_test)[0],1))\n",
    "y_train = np.reshape(y_train,(np.shape(y_train)[0],1))\n"
   ]
  },
  {
   "cell_type": "code",
   "execution_count": 7,
   "metadata": {},
   "outputs": [],
   "source": [
    "# using logistic regression\n",
    "\n",
    "stat = logr.optimize(X_train,y_train)"
   ]
  },
  {
   "cell_type": "code",
   "execution_count": 8,
   "metadata": {},
   "outputs": [
    {
     "data": {
      "image/png": "[encoded data removed]",
      "text/plain": [
       "<Figure size 432x288 with 1 Axes>"
      ]
     },
     "metadata": {},
     "output_type": "display_data"
    }
   ],
   "source": [
    "# trying values of alpha by plotting cost vs iteration graph ( parameters (alpha,no of iterations) ,regularisation(default=0) ...for batch gradient descent\n",
    "\n",
    "stat.plotJvsno(0.1,100)"
   ]
  },
  {
   "cell_type": "code",
   "execution_count": 9,
   "metadata": {},
   "outputs": [
    {
     "data": {
      "image/png": "[encoded data removed]",
      "text/plain": [
       "<Figure size 432x288 with 1 Axes>"
      ]
     },
     "metadata": {},
     "output_type": "display_data"
    }
   ],
   "source": [
    "stat.plotJvsno(1,150)"
   ]
  },
  {
   "cell_type": "code",
   "execution_count": 10,
   "metadata": {},
   "outputs": [],
   "source": [
    "# (1,150) seems to be suitable here, for the optimum theta... parameters: (alpha,no of iterations,regularisation_(default=0), graddes batch_size_(default=0) ) \n",
    "\n",
    "[theta,c] = stat.gettheta(1,200,2)"
   ]
  },
  {
   "cell_type": "code",
   "execution_count": 11,
   "metadata": {},
   "outputs": [
    {
     "name": "stdout",
     "output_type": "stream",
     "text": [
      "85.0\n"
     ]
    }
   ],
   "source": [
    "# computing accuracy with test set\n",
    "\n",
    "k = stat.accuracy(X_test,y_test)\n",
    "print k"
   ]
  },
  {
   "cell_type": "code",
   "execution_count": 12,
   "metadata": {},
   "outputs": [],
   "source": [
    "# for optimizing using mini=batch gradient descent...parameters: (alpha,no of iterations,regularisation_(default=0), graddes batch_size_(default=0) )\n",
    "[theta,c]= stat.gettheta(1,200,1,20)"
   ]
  },
  {
   "cell_type": "code",
   "execution_count": 13,
   "metadata": {},
   "outputs": [
    {
     "name": "stdout",
     "output_type": "stream",
     "text": [
      "85.0\n"
     ]
    }
   ],
   "source": [
    "# Checking accuracy\n",
    "\n",
    "k = stat.accuracy(X_test,y_test)\n",
    "print k"
   ]
  },
  {
   "cell_type": "code",
   "execution_count": 14,
   "metadata": {},
   "outputs": [
    {
     "name": "stdout",
     "output_type": "stream",
     "text": [
      "95.0 %\n"
     ]
    }
   ],
   "source": [
    "# Comparing accuracy with sklearn\n",
    "\n",
    "from sklearn.linear_model import LogisticRegression\n",
    "model = LogisticRegression()\n",
    "model.fit(X_train,y_train.ravel())\n",
    "y_ = model.predict(X_test)\n",
    "y_ = y_.reshape((np.shape(y_test)[0],1))\n",
    "equ = np.equal(y_,y_test)\n",
    "n_correct = np.sum(equ.astype(int))\n",
    "accuracy = np.true_divide(n_correct*100,np.shape(y_test)[0])\n",
    "print accuracy,'%'"
   ]
  },
  {
   "cell_type": "code",
   "execution_count": null,
   "metadata": {},
   "outputs": [],
   "source": []
  }
 ],
 "metadata": {
  "kernelspec": {
   "display_name": "Python 2",
   "language": "python",
   "name": "python2"
  },
  "language_info": {
   "codemirror_mode": {
    "name": "ipython",
    "version": 2
   },
   "file_extension": ".py",
   "mimetype": "text/x-python",
   "name": "python",
   "nbconvert_exporter": "python",
   "pygments_lexer": "ipython2",
   "version": "2.7.15"
  }
 },
 "nbformat": 4,
 "nbformat_minor": 2
}
