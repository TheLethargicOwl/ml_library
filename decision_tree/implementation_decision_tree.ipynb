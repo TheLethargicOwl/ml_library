{
 "cells": [
  {
   "cell_type": "code",
   "execution_count": null,
   "metadata": {},
   "outputs": [],
   "source": [
    "\"\"\"\n",
    "This is a DECISION TREE CLASSIFIER module.\n",
    "   \n",
    "To use this module - \n",
    "   >> import decision_tree as dt\n",
    "\n",
    "1. Create an object\n",
    "   >> tree = dt.decision_tree ( matrix of m rows with last column as label )\n",
    "   Every element of a column should be of same type.\n",
    " \n",
    "2. Train your model\n",
    "   >> root_node = tree.build_tree()\n",
    "   This function returns the main root node of the tree.\n",
    "   \n",
    "4. Predict values-\n",
    "   >> y_predict = tree.predict( root_node , test matrix of m rows with feature columns )\n",
    "   For predicting single example -\n",
    "   >> y_predict = tree.predict_row( root_node , test row )\n",
    "\n",
    "5. Accuracy  can be determined by -\n",
    "   >> accuracy = tree.accuracy(root_node , matrix of m rows with last column as label )\n",
    "\n",
    "6. A rough print of the tree can be done by -\n",
    "   >> print_node( root_node )\n",
    "   \n",
    "   \n",
    "\"\"\""
   ]
  },
  {
   "cell_type": "code",
   "execution_count": null,
   "metadata": {},
   "outputs": [],
   "source": []
  },
  {
   "cell_type": "code",
   "execution_count": 2,
   "metadata": {},
   "outputs": [],
   "source": [
    "import numpy as np\n",
    "import decision_tree as dt\n",
    "import pandas as pd\n"
   ]
  },
  {
   "cell_type": "code",
   "execution_count": 3,
   "metadata": {},
   "outputs": [],
   "source": [
    "# importing data   - X_data contains features columns and labels as the last column\n",
    "\n",
    "file_data = pd.read_csv('cancer.txt',header=None)\n",
    "X = np.array(file_data.values)"
   ]
  },
  {
   "cell_type": "code",
   "execution_count": 4,
   "metadata": {},
   "outputs": [],
   "source": [
    "# shuffling and dividing data into training and test set\n",
    "\n",
    "X_data = np.take(X,np.random.rand(X.shape[0]).argsort(),axis=0,out=X)\n",
    "X_data = X_data[:,1:]\n",
    "m = np.shape(X_data)[0]\n",
    "\n",
    "X_train = X_data[0:int(0.7*m),:]\n",
    "X_test = X_data[int(0.7*m):,:]\n",
    "\n"
   ]
  },
  {
   "cell_type": "code",
   "execution_count": 5,
   "metadata": {},
   "outputs": [],
   "source": [
    "# creating object\n",
    "\n",
    "tree = dt.decision_tree(X_train)"
   ]
  },
  {
   "cell_type": "code",
   "execution_count": 6,
   "metadata": {},
   "outputs": [],
   "source": [
    "# training model\n",
    "\n",
    "root_node = tree.build_tree()"
   ]
  },
  {
   "cell_type": "code",
   "execution_count": 7,
   "metadata": {},
   "outputs": [],
   "source": [
    "# testing model using the root_node\n",
    "\n",
    "predicted_values = tree.predict( root_node,X_test )"
   ]
  },
  {
   "cell_type": "code",
   "execution_count": 8,
   "metadata": {},
   "outputs": [
    {
     "name": "stdout",
     "output_type": "stream",
     "text": [
      "74.76190476190476 %\n"
     ]
    }
   ],
   "source": [
    "# checking accuracy on test data with the root_node\n",
    "\n",
    "print tree.accuracy( root_node,X_test ),'%'"
   ]
  },
  {
   "cell_type": "code",
   "execution_count": 9,
   "metadata": {},
   "outputs": [
    {
     "name": "stdout",
     "output_type": "stream",
     "text": [
      "78.0952380952381\n"
     ]
    }
   ],
   "source": [
    "# comparing acuracy with sklearn\n",
    "\n",
    "from sklearn import tree\n",
    "clf = tree.DecisionTreeClassifier()\n",
    "clf = clf.fit( X_train[:,0:np.shape(X_train)[1]-1] ,X_train[:,np.shape(X_train)[1]-1:np.shape(X_train)[1]] )\n",
    "predict = clf.predict ( X_test[:,0:np.shape(X_test)[1]-1]  )\n",
    "temp = (predict==X_test[:,np.shape(X_test)[1]-1:np.shape(X_test)[1]].flatten()).astype(int)\n",
    "print (sum(temp)*100.0)/len(temp)"
   ]
  },
  {
   "cell_type": "code",
   "execution_count": null,
   "metadata": {},
   "outputs": [],
   "source": []
  },
  {
   "cell_type": "code",
   "execution_count": null,
   "metadata": {},
   "outputs": [],
   "source": []
  }
 ],
 "metadata": {
  "kernelspec": {
   "display_name": "Python 2",
   "language": "python",
   "name": "python2"
  },
  "language_info": {
   "codemirror_mode": {
    "name": "ipython",
    "version": 2
   },
   "file_extension": ".py",
   "mimetype": "text/x-python",
   "name": "python",
   "nbconvert_exporter": "python",
   "pygments_lexer": "ipython2",
   "version": "2.7.15"
  }
 },
 "nbformat": 4,
 "nbformat_minor": 2
}
