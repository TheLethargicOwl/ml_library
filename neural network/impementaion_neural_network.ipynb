{
 "cells": [
  {
   "cell_type": "code",
   "execution_count": null,
   "metadata": {},
   "outputs": [],
   "source": [
    "\"\"\"\n",
    "   To use this module - \n",
    "   import neuralNetwork as nn\n",
    "\n",
    "1. create an object\n",
    "\n",
    "   >> stat = nn.optimize(X,Y)\n",
    "   X & Y are training data. X if (m X n) matrix of m example and n features.\n",
    "   Y is a (m X 1) matrix, the classes label can be any string or number.\n",
    " \n",
    "2. Give data\n",
    "   >> stat.parameter('list' of number of units in required number of hidden layers,number of unit in output layer)\n",
    "\n",
    "3. obtain Theta - a list containing appropriate theta1, theta2, and so on\n",
    "   >> Theta = stat.gettheta(alpha, number of iterations,regularisation parameter(default=0), batch size (default=batch GradDescent))\n",
    "\n",
    "4. To obtain output\n",
    "   >> y_predict = stat.predict( feature test matrix )\n",
    "\n",
    "5. Accuracy  can be determined by -\n",
    "   >> accuracy = stat.accuracy(X_test,y_test)\n",
    "\n",
    "\n",
    "\"\"\"\n"
   ]
  },
  {
   "cell_type": "code",
   "execution_count": null,
   "metadata": {},
   "outputs": [],
   "source": []
  },
  {
   "cell_type": "code",
   "execution_count": 1,
   "metadata": {},
   "outputs": [],
   "source": [
    "import numpy as np\n",
    "import neuralNetwork as nn\n",
    "import pandas as pd"
   ]
  },
  {
   "cell_type": "code",
   "execution_count": 2,
   "metadata": {},
   "outputs": [],
   "source": [
    "# loading data\n",
    "\n",
    "data = pd.read_csv('data/Moon.txt',header=None,sep=',')\n",
    "data = np.array(data.values)\n",
    "X = data[:,0:2]\n",
    "y = data[:,2:3]"
   ]
  },
  {
   "cell_type": "code",
   "execution_count": 3,
   "metadata": {},
   "outputs": [],
   "source": [
    "# separating in train and test set\n",
    "\n",
    "m = np.shape(X)[0]\n",
    "X_train = X[0:int(0.7*m),:]\n",
    "y_train = y[0:int(0.7*m)]\n",
    "X_test = X[int(0.7*m):,:]\n",
    "y_test = y[int(0.7*m):]"
   ]
  },
  {
   "cell_type": "code",
   "execution_count": 4,
   "metadata": {},
   "outputs": [],
   "source": [
    "# creating object. Parameter takes - (list of number of units in hidden layer,number of unit in output layer)\n",
    "\n",
    "stat = nn.optimize(X_train,y_train)\n",
    "stat.parameter([25,25],2)"
   ]
  },
  {
   "cell_type": "code",
   "execution_count": 42,
   "metadata": {},
   "outputs": [],
   "source": [
    "# gettheta will return Theta, array  with theta1 as Theta[1], and so on so on..\n",
    "# gettheta takes - (alpha, number of iterations,regularisation parameter(default=0), batch size (default=batch GradDescent))\n",
    "\n",
    "Theta = stat.gettheta(2,100,1,4)"
   ]
  },
  {
   "cell_type": "code",
   "execution_count": 43,
   "metadata": {},
   "outputs": [],
   "source": [
    "# predicting\n",
    "\n",
    "y_predict = stat.predict(X_test)"
   ]
  },
  {
   "cell_type": "code",
   "execution_count": 47,
   "metadata": {},
   "outputs": [
    {
     "name": "stdout",
     "output_type": "stream",
     "text": [
      "100 %\n"
     ]
    }
   ],
   "source": [
    "#accuracy\n",
    "\n",
    "print stat.accuracy(X_test,y_test),'%'"
   ]
  },
  {
   "cell_type": "code",
   "execution_count": 48,
   "metadata": {},
   "outputs": [
    {
     "name": "stdout",
     "output_type": "stream",
     "text": [
      "100 %\n"
     ]
    }
   ],
   "source": [
    "# comparing accuracy with scikit\n",
    "\n",
    "from sklearn.neural_network import MLPClassifier\n",
    "clf = MLPClassifier(solver='lbfgs', alpha=1e-5, hidden_layer_sizes=(25, 25), random_state=1)\n",
    "clf.fit(X_train,y_train)\n",
    "y_predict = clf.predict(X_test)\n",
    "y_predict = np.reshape(y_predict,(np.shape(y_predict)[0],1))\n",
    "y = y_predict\n",
    "k = (y==y_test)\n",
    "k = k.astype(int)\n",
    "\n",
    "print np.sum(k)*100/np.shape(y_test)[0],'%'\n"
   ]
  },
  {
   "cell_type": "code",
   "execution_count": null,
   "metadata": {},
   "outputs": [],
   "source": []
  }
 ],
 "metadata": {
  "kernelspec": {
   "display_name": "Python 2",
   "language": "python",
   "name": "python2"
  },
  "language_info": {
   "codemirror_mode": {
    "name": "ipython",
    "version": 2
   },
   "file_extension": ".py",
   "mimetype": "text/x-python",
   "name": "python",
   "nbconvert_exporter": "python",
   "pygments_lexer": "ipython2",
   "version": "2.7.15"
  }
 },
 "nbformat": 4,
 "nbformat_minor": 2
}
