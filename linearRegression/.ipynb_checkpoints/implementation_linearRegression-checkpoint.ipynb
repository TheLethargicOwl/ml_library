{
 "cells": [
  {
   "cell_type": "code",
   "execution_count": null,
   "metadata": {},
   "outputs": [],
   "source": [
    "\"\"\"\n",
    "This is a LINEAR REGRESSION module.\n",
    "\n",
    "To use this module:\n",
    "Command- \n",
    "   >> import linearRegression as lr\n",
    "\n",
    "1. Create an object\n",
    "   >> stat = lr.optimize( data matrix of ( m examples X n features ) , output matrix of (m examples X 1))\n",
    "\n",
    "2. Plot graph for selecting a value of alpha, iterations, regularisation parameter, batch size (in case of MINI-BATCH GradDescent))\n",
    "   >> stat.plotJvsno( alpha , no of iterations , regularisation(default=0 ) , batch size (default = BATCH GradDescent))\n",
    "   \n",
    "3. This is a __y = mx + c__ model , so for theta & c\n",
    "   >> [theta,c] = stat.gettheta( alpha , no of iterations , regularisation(default=0 ) )\n",
    "   \n",
    "4. For getting predicted values\n",
    "   >> y_predict = stat.predict(X_test( m examples X n features ) )\n",
    "   \n",
    "5. For checking accuracy\n",
    "   >> stat.accuracy(X_test,y_test)\n",
    "   \n",
    "\"\"\""
   ]
  },
  {
   "cell_type": "code",
   "execution_count": null,
   "metadata": {},
   "outputs": [],
   "source": [
    "  # EXAMPLE -"
   ]
  },
  {
   "cell_type": "code",
   "execution_count": null,
   "metadata": {},
   "outputs": [],
   "source": []
  },
  {
   "cell_type": "code",
   "execution_count": 2,
   "metadata": {},
   "outputs": [],
   "source": [
    "import numpy as np\n",
    "import linearRegression as lr\n",
    "import pandas as pd"
   ]
  },
  {
   "cell_type": "code",
   "execution_count": 3,
   "metadata": {},
   "outputs": [],
   "source": [
    "\n",
    "# Importing data\n",
    "\n",
    "file_data = pd.read_csv('linearRegression.txt',header=None)\n",
    "X_data = np.array(file_data.values)"
   ]
  },
  {
   "cell_type": "code",
   "execution_count": 4,
   "metadata": {},
   "outputs": [],
   "source": [
    "# separating out features \n",
    "\n",
    "X = X_data[:,0:np.shape(X_data)[1]-1]\n",
    "y = X_data[:,np.shape(X_data)[1]-1]\n"
   ]
  },
  {
   "cell_type": "code",
   "execution_count": 5,
   "metadata": {},
   "outputs": [],
   "source": [
    "# diving data into 70% training set and 30% test set\n",
    "\n",
    "[m,n] = np.shape(X)\n",
    "y = np.reshape(y,(np.shape(y)[0],1))\n",
    "X_train = X[0:int(0.7*m),:]\n",
    "y_train = y[0:int(0.7*m)]\n",
    "X_test = X[int(0.7*m):,:]\n",
    "y_test = y[int(0.7*m):]"
   ]
  },
  {
   "cell_type": "code",
   "execution_count": 6,
   "metadata": {},
   "outputs": [],
   "source": [
    "#using linearRegression\n",
    "\n",
    "stat = lr.optimize(X_train,y_train)"
   ]
  },
  {
   "cell_type": "code",
   "execution_count": 7,
   "metadata": {},
   "outputs": [
    {
     "data": {
      "image/png": "[encoded data removed]",
      "text/plain": [
       "<Figure size 432x288 with 1 Axes>"
      ]
     },
     "metadata": {},
     "output_type": "display_data"
    }
   ],
   "source": [
    "# trying values of alpha by plotting cost vs iteration graph ( parameters (alpha,no of iterations) ,regularisation(default=0) ...for batch gradient descent\n",
    "\n",
    "stat.plotJvsno(0.01,100)"
   ]
  },
  {
   "cell_type": "code",
   "execution_count": 8,
   "metadata": {},
   "outputs": [
    {
     "data": {
      "image/png": "[encoded data removed]",
      "text/plain": [
       "<Figure size 432x288 with 1 Axes>"
      ]
     },
     "metadata": {},
     "output_type": "display_data"
    }
   ],
   "source": [
    "stat.plotJvsno(0.4,100)"
   ]
  },
  {
   "cell_type": "code",
   "execution_count": 9,
   "metadata": {},
   "outputs": [],
   "source": [
    "# o.1 seems to be suitable here, for the optimum theta... parameters: (alpha,no of iterations,regularisation_(default=0), graddes batch_size_(default=0) ) \n",
    "\n",
    "[theta,c] = stat.gettheta(0.4,100,1)"
   ]
  },
  {
   "cell_type": "code",
   "execution_count": 10,
   "metadata": {},
   "outputs": [],
   "source": [
    "# for predicting values for test set\n",
    "\n",
    "y_predict = stat.predict(X_test)"
   ]
  },
  {
   "cell_type": "code",
   "execution_count": 11,
   "metadata": {},
   "outputs": [
    {
     "name": "stdout",
     "output_type": "stream",
     "text": [
      "92.49867382874552 %\n"
     ]
    }
   ],
   "source": [
    "# for accuracy using test set\n",
    "\n",
    "print stat.accuracy(X_test,y_test),'%'"
   ]
  },
  {
   "cell_type": "code",
   "execution_count": 12,
   "metadata": {},
   "outputs": [],
   "source": [
    "# for optimizing using mini=batch gradient descent...parameters: (alpha,no of iterations,regularisation_(default=0), graddes batch_size_(default=0) )\n",
    "\n",
    "[theta,c]= stat.gettheta(0.4,100,1,16)"
   ]
  },
  {
   "cell_type": "code",
   "execution_count": 13,
   "metadata": {},
   "outputs": [
    {
     "name": "stdout",
     "output_type": "stream",
     "text": [
      "91.61428521216419 %\n"
     ]
    }
   ],
   "source": [
    "print stat.accuracy(X_test,y_test),'%'"
   ]
  },
  {
   "cell_type": "code",
   "execution_count": 14,
   "metadata": {},
   "outputs": [
    {
     "name": "stdout",
     "output_type": "stream",
     "text": [
      "93.14253314569355 %\n"
     ]
    }
   ],
   "source": [
    "# Comparing accuracy with sklearn\n",
    "\n",
    "from sklearn import linear_model\n",
    "regr = linear_model.LinearRegression()\n",
    "regr.fit( X_train , y_train )\n",
    "y_predt = regr.predict(X_test)\n",
    "error  = (100*(y_predt - y_test))/y_test\n",
    "error_mean= np.mean(error)\n",
    "print (100 - error_mean),'%'"
   ]
  },
  {
   "cell_type": "code",
   "execution_count": null,
   "metadata": {},
   "outputs": [],
   "source": []
  }
 ],
 "metadata": {
  "kernelspec": {
   "display_name": "Python 2",
   "language": "python",
   "name": "python2"
  },
  "language_info": {
   "codemirror_mode": {
    "name": "ipython",
    "version": 2
   },
   "file_extension": ".py",
   "mimetype": "text/x-python",
   "name": "python",
   "nbconvert_exporter": "python",
   "pygments_lexer": "ipython2",
   "version": "2.7.15"
  }
 },
 "nbformat": 4,
 "nbformat_minor": 2
}
